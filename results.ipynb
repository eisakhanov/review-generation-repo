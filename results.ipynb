{
 "cells": [
  {
   "cell_type": "code",
   "execution_count": 5,
   "metadata": {},
   "outputs": [],
   "source": [
    "import pandas as pd\n",
    "import faiss\n",
    "import numpy as np\n",
    "from sentence_transformers import SentenceTransformer\n",
    "from model.api_caller import APICaller\n",
    "from prompts.prompt_system import PromptSystem\n",
    "\n",
    "index = faiss.read_index('faiss_db/review_index.faiss')\n",
    "df = pd.read_csv('parsed_geo_reviews.csv')\n",
    "\n",
    "model = SentenceTransformer('all-MiniLM-L6-v2')\n",
    "prompt_system = PromptSystem()\n",
    "api_caller = APICaller(api_key='')\n",
    "\n",
    "def generate_review_from_faiss(query, category, rating, keywords, num_similar_reviews=3):\n",
    "    query_embedding = model.encode([query])\n",
    "    distances, indices = index.search(np.array(query_embedding), num_similar_reviews)\n",
    "    similar_reviews = df.iloc[indices[0]]['text'].tolist()\n",
    "    \n",
    "    system_prompt = prompt_system.get_system_prompt()\n",
    "    user_prompt = prompt_system.generate_user_prompt(category, rating, keywords, similar_reviews)\n",
    "    \n",
    "    return api_caller.call_gpt35_turbo(system_prompt, user_prompt)"
   ]
  },
  {
   "cell_type": "code",
   "execution_count": 6,
   "metadata": {},
   "outputs": [
    {
     "name": "stdout",
     "output_type": "stream",
     "text": [
      "Сгенерированный отзыв для кафе:\n",
      "Недавно посетила кафе и осталась в полном восторге! Вкусная еда просто завораживает своим разнообразием и неповторимым вкусом. Атмосфера заведения просто неповторима — такая уютная и домашняя, что хочется проводить здесь каждый свободный час. Обслуживание на высшем уровне, персонал очень внимателен и дружелюбен. Очень рекомендую это место для тех, кто ценит вкусную еду и уютную атмосферу!\n"
     ]
    }
   ],
   "source": [
    "query = \"уютное кафе с вкусной едой\"\n",
    "category = \"Кафе\"\n",
    "rating = 5\n",
    "keywords = [\"вкусная еда\", \"уютная атмосфера\"]\n",
    "\n",
    "new_review = generate_review_from_faiss(query, category, rating, keywords)\n",
    "print(f\"Сгенерированный отзыв для кафе:\\n{new_review}\")"
   ]
  },
  {
   "cell_type": "code",
   "execution_count": 7,
   "metadata": {},
   "outputs": [
    {
     "name": "stdout",
     "output_type": "stream",
     "text": [
      "Сгенерированный отзыв для ресторана:\n",
      "Этот ресторан — настоящая находка для ценителей изысканной кухни и отличного обслуживания. Посетив это заведение, я остался в восторге от кулинарных шедевров, приготовленных шеф-поваром. Обслуживание на высшем уровне: персонал внимателен, вежлив и готов предложить рекомендации по меню. Уютная атмосфера и стильный интерьер создают особую атмосферу, идеальную для романтического ужина или делового обеда. Я благодарен этому заведению\n"
     ]
    }
   ],
   "source": [
    "query = \"ресторан с изысканной кухней\"\n",
    "category = \"Ресторан\"\n",
    "rating = 5\n",
    "keywords = [\"изысканная кухня\", \"отличное обслуживание\"]\n",
    "\n",
    "new_review = generate_review_from_faiss(query, category, rating, keywords)\n",
    "print(f\"Сгенерированный отзыв для ресторана:\\n{new_review}\")"
   ]
  },
  {
   "cell_type": "code",
   "execution_count": 8,
   "metadata": {},
   "outputs": [
    {
     "name": "stdout",
     "output_type": "stream",
     "text": [
      "Сгенерированный отзыв для фитнес-клуба:\n",
      "Посетила фитнес-клуб с рейтингом 4 и осталась приятно удивлена. Интерьер заведения вызывает восхищение - стильный и функциональный. Новые тренажеры порадовали своим разнообразием и современными функциями. Квалифицированные тренеры создают дружелюбную и мотивирующую атмосферу. \n",
      "\n",
      "Первые тренировки оказались эффективными благодаря индивидуальному подходу тренеров к каждому посетителю. Удобный график занятий позв\n"
     ]
    }
   ],
   "source": [
    "query = \"фитнес-клуб с новыми тренажерами\"\n",
    "category = \"Фитнес-клуб\"\n",
    "rating = 4\n",
    "keywords = [\"новые тренажеры\", \"квалифицированные тренеры\"]\n",
    "\n",
    "new_review = generate_review_from_faiss(query, category, rating, keywords)\n",
    "print(f\"Сгенерированный отзыв для фитнес-клуба:\\n{new_review}\")"
   ]
  },
  {
   "cell_type": "code",
   "execution_count": 9,
   "metadata": {},
   "outputs": [
    {
     "name": "stdout",
     "output_type": "stream",
     "text": [
      "Сгенерированный отзыв для салона красоты:\n",
      "Посетила салон красоты недавно и осталась в полном восторге! Хочу отметить, что мастера здесь действительно профессионалы своего дела. Мне сделали потрясающий маникюр и стрижку, я довольна каждым волоском на голове. Обслуживание на высшем уровне, персонал очень внимателен и дружелюбен. Я получила огромное удовольствие от визита в этот салон красоты. Очень рекомендую всем, кто ценит качество и хороший\n"
     ]
    }
   ],
   "source": [
    "query = \"салон красоты с хорошими мастерами\"\n",
    "category = \"Салон красоты\"\n",
    "rating = 5\n",
    "keywords = [\"хорошие мастера\", \"отличный сервис\"]\n",
    "\n",
    "new_review = generate_review_from_faiss(query, category, rating, keywords)\n",
    "print(f\"Сгенерированный отзыв для салона красоты:\\n{new_review}\")"
   ]
  },
  {
   "cell_type": "code",
   "execution_count": 10,
   "metadata": {},
   "outputs": [
    {
     "name": "stdout",
     "output_type": "stream",
     "text": [
      "Сгенерированный отзыв для отеля:\n",
      "Прекрасный отель высшей категории! Расположенный прямо у берега, он поражает потрясающим видом на море, который завораживает с первого взгляда. Бассейн отеля — настоящая жемчужина, идеально чистый и уютный, идеально подходит для расслабляющих водных процедур. Интерьер олицетворяет изысканность и комфорт, создавая атмосферу истинного расслабления. Профессиональный и дружелюбный персонал сделает ваше пребывание незабываемым. Реком\n"
     ]
    }
   ],
   "source": [
    "query = \"отель с видом на море и бассейном\"\n",
    "category = \"Отель\"\n",
    "rating = 5\n",
    "keywords = [\"вид на море\", \"бассейн\"]\n",
    "\n",
    "new_review = generate_review_from_faiss(query, category, rating, keywords)\n",
    "print(f\"Сгенерированный отзыв для отеля:\\n{new_review}\")"
   ]
  }
 ],
 "metadata": {
  "kernelspec": {
   "display_name": ".venv",
   "language": "python",
   "name": "python3"
  },
  "language_info": {
   "codemirror_mode": {
    "name": "ipython",
    "version": 3
   },
   "file_extension": ".py",
   "mimetype": "text/x-python",
   "name": "python",
   "nbconvert_exporter": "python",
   "pygments_lexer": "ipython3",
   "version": "3.12.3"
  }
 },
 "nbformat": 4,
 "nbformat_minor": 2
}
